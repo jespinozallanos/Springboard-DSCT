{
 "cells": [
  {
   "cell_type": "code",
   "execution_count": null,
   "metadata": {
    "collapsed": true
   },
   "outputs": [],
   "source": [
    "#1.\n",
    "# Pick a dataset - ideally the dataset for your Capstone. If for some \n",
    "# reason you want to do this on a different data set, you can find one on \n",
    "# Mode Analytics or Google's public data sets directory, or pick another \n",
    "# one you like from elsewhere."
   ]
  },
  {
   "cell_type": "code",
   "execution_count": null,
   "metadata": {
    "collapsed": true
   },
   "outputs": [],
   "source": [
    "#The dataset that I have chosen is a collection of Amazon book reviews \n",
    "#from 8 different books."
   ]
  },
  {
   "cell_type": "code",
   "execution_count": 7,
   "metadata": {
    "collapsed": true
   },
   "outputs": [],
   "source": [
    "%matplotlib inline\n",
    "import numpy as np\n",
    "import scipy as sp\n",
    "import matplotlib as mpl\n",
    "import matplotlib.cm as cm\n",
    "import matplotlib.pyplot as plt\n",
    "import pandas as pd\n",
    "import seaborn as sns\n",
    "from six.moves import range\n",
    "\n",
    "#Read in all book reviews\n",
    "\n",
    "import nltk.classify.util\n",
    "from nltk.classify import NaiveBayesClassifier\n",
    "\n",
    "books = [\"Andy-Weir-The-Martian.csv\", \"Donna-Tartt-The-Goldfinch.csv\", \n",
    "         \"EL-James-Fifty-Shades-of-Grey.csv\", \"Fillian_Flynn-Gone_Girl.csv\", \n",
    "         \"John-Green-The-Fault-in-our-Stars.csv\", \"Laura-Hillenbrand-Unbroken.csv\", \n",
    "         \"Paula_Hawkins-The-Girl-On-The-Train.csv\", \"Suzanne-Collins-The-Hunger-Games.csv\"]        "
   ]
  },
  {
   "cell_type": "code",
   "execution_count": 8,
   "metadata": {
    "collapsed": true
   },
   "outputs": [],
   "source": [
    "#2.\n",
    "#Get going by asking the following questions and looking for the answers with some code and plots:\n",
    "\n",
    "# 1. Can you count something interesting?\n",
    "# 2. Can you find some trends?\n",
    "# 3. Can you make a bar plot or a histogram?\n",
    "# 4. Can you compare two related quantities?\n",
    "# 5. Can you make a scatterplot?\n",
    "# 6. Can you make a time-series plot?\n",
    "\n",
    "#Eventually, want to separate each book review into different classes - pos, neutral, neg sentiments\n",
    "neg = []\n",
    "neutral = []\n",
    "pos = []\n",
    "\n",
    "for i in books:  \n",
    "    for line in open(i):\n",
    "        if int(line[0]) == 1 or int(line[0]) == 2:\n",
    "            neg.append(line)\n",
    "        elif int(line[0]) == 3:\n",
    "            neutral.append(line)\n",
    "        else:\n",
    "            pos.append(line) "
   ]
  },
  {
   "cell_type": "code",
   "execution_count": 9,
   "metadata": {
    "collapsed": true
   },
   "outputs": [],
   "source": [
    "ratings = []\n",
    "\n",
    "for i in books:  \n",
    "    for line in open(i):\n",
    "        ratings.append(int(line[0]))"
   ]
  },
  {
   "cell_type": "code",
   "execution_count": 10,
   "metadata": {
    "collapsed": false
   },
   "outputs": [
    {
     "name": "stdout",
     "output_type": "stream",
     "text": [
      "1.0\t/gp/customer-reviews/RETX241WWFNXH?ASIN=0439023521\tWorst Book on the PLANET\t\"<span class=\"\"a-size-base review-text\"\">If I could rate this book a zero I would... The book was to all over the place.. Ive herd many good things about this book aand the others...Woorst book I hae EVER reead  Dont read it!!!!!!!!</span>\"\r\n",
      "\n"
     ]
    }
   ],
   "source": [
    "#Check to see what the first review from the first book listed in the books list is.\n",
    "print line"
   ]
  },
  {
   "cell_type": "code",
   "execution_count": 11,
   "metadata": {
    "collapsed": false
   },
   "outputs": [
    {
     "data": {
      "image/png": "[encoded data removed]",
      "text/plain": [
       "<matplotlib.figure.Figure at 0x112892190>"
      ]
     },
     "metadata": {},
     "output_type": "display_data"
    }
   ],
   "source": [
    "#Get an overall summary of how 'Review Score' column breaks down per rating for all 8 books.\n",
    "\n",
    "#(question #1) Counting something interesting.\n",
    "#(question #2) Finding some trend.\n",
    "#(question #3) Made a histogram.\n",
    "\n",
    "plt.hist(ratings)\n",
    "plt.xlabel(\"Rating\")\n",
    "plt.ylabel(\"# Reviews\")\n",
    "plt.show()"
   ]
  },
  {
   "cell_type": "code",
   "execution_count": null,
   "metadata": {
    "collapsed": true
   },
   "outputs": [],
   "source": [
    "#(question #4) Comparing two related quantities.\n",
    "\n",
    "#Based on the breakdown above, positive review scores supercede all other review scores.\n",
    "#It seems to be the case that most people write reviews for things they like or the books\n",
    "#that were part of the collection were particularly good or both could have been the case. "
   ]
  },
  {
   "cell_type": "code",
   "execution_count": null,
   "metadata": {
    "collapsed": true
   },
   "outputs": [],
   "source": [
    "#(question #5 and question #6) These are not relevant for this dataset because we are dealing\n",
    "# with classification here and not linear relationships. Question #5 and question #6 ask for \n",
    "# scatterplots and time-series plots which relate to linear relationships. For this dataset, there \n",
    "# are no independent/dependent var's for there so be linear relationships. However, Capstone Project II\n",
    "# will have these var's. And therefore, scatterplots and time-series plots would be relevant."
   ]
  },
  {
   "cell_type": "code",
   "execution_count": null,
   "metadata": {
    "collapsed": true
   },
   "outputs": [],
   "source": [
    "#3. \n",
    "# Having made these plots, what are some insights you get from them? \n",
    "# Do you see any correlations? Is there a hypothesis you would like to investigate further? \n",
    "# What other questions do they lead you to ask?\n",
    "\n",
    "#Based on what is available from the dataset, if there were sentiment analysis done, then there \n",
    "# would be a sufficient amount of positive reviews to train a machine learning algorithm. \n",
    "# Some hypotheses: \n",
    "#     Do stop words and creating a threshold to hit as requirement to have words included in text\n",
    "#     corpus, do these both affect how accurate sentiment classification model would be or would\n",
    "#     not modifying the text corpus like such have no affect on model's performance.'\n",
    "    \n",
    "# Other questions histogram has led me to ask:\n",
    "#     1. How do different classification algorithms perform differently given same text corpus to\n",
    "#     classify?\n",
    "#     2. Does combining multiple words together improve classification accuracy?\n",
    "#     3. What packages/libraries are out there that allow efficient text processing/linguistic/\n",
    "#     semantic insights to help classify sentiment in text?"
   ]
  },
  {
   "cell_type": "code",
   "execution_count": null,
   "metadata": {
    "collapsed": true
   },
   "outputs": [],
   "source": [
    "#4.\n",
    "# By now you’ve asked a bunch of questions, and found some neat insights. \n",
    "# Is there an interesting narrative, a way of presenting the insights using text \n",
    "# and plots from the above, that tells a compelling story? As you work out this story,\n",
    "# what are some other trends/relationships you think will make it more complete?\n",
    "\n",
    "# #Other relationships that I think would make this project more complete are exploring the text\n",
    "# corpus with an unsupervised machine learning algorithm where the review scores would not be \n",
    "# available. Another option would be to use a Supervised and Unsupervised method/hybrid approach\n",
    "# when classifying review texts into sentiments. "
   ]
  }
 ],
 "metadata": {
  "anaconda-cloud": {},
  "kernelspec": {
   "display_name": "Python [conda root]",
   "language": "python",
   "name": "conda-root-py"
  },
  "language_info": {
   "codemirror_mode": {
    "name": "ipython",
    "version": 2
   },
   "file_extension": ".py",
   "mimetype": "text/x-python",
   "name": "python",
   "nbconvert_exporter": "python",
   "pygments_lexer": "ipython2",
   "version": "2.7.13"
  }
 },
 "nbformat": 4,
 "nbformat_minor": 2
}
