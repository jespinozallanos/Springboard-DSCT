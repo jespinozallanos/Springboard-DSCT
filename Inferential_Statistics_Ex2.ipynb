{
 "cells": [
  {
   "cell_type": "markdown",
   "metadata": {},
   "source": [
    "# Examining Racial Discrimination in the US Job Market\n",
    "\n",
    "### Background\n",
    "Racial discrimination continues to be pervasive in cultures throughout the world. Researchers examined the level of racial discrimination in the United States labor market by randomly assigning identical résumés to black-sounding or white-sounding names and observing the impact on requests for interviews from employers.\n",
    "\n",
    "### Data\n",
    "In the dataset provided, each row represents a resume. The 'race' column has two values, 'b' and 'w', indicating black-sounding and white-sounding. The column 'call' has two values, 1 and 0, indicating whether the resume received a call from employers or not.\n",
    "\n",
    "Note that the 'b' and 'w' values in race are assigned randomly to the resumes when presented to the employer."
   ]
  },
  {
   "cell_type": "code",
   "execution_count": 2,
   "metadata": {
    "collapsed": true
   },
   "outputs": [],
   "source": [
    "##Exercises\n",
    "\n",
    "# You will perform a statistical analysis to establish whether race has a significant impact on the rate of callbacks for resumes.\n",
    "\n",
    "# Answer the following questions **in this notebook below and submit to your Github account**. \n",
    "\n",
    "#    1. What test is appropriate for this problem? Does CLT apply?\n",
    "#    2. What are the null and alternate hypotheses?\n",
    "#    3. Compute margin of error, confidence interval, and p-value.\n",
    "#    4. Write a story describing the statistical significance in the context or the original problem.\n",
    "#    5. Does your analysis mean that race/name is the most important factor in callback success? Why or why not? If not, how would you amend your analysis?\n",
    "\n",
    "# You can include written notes in notebook cells using Markdown: \n",
    "#    - In the control panel at the top, choose Cell > Cell Type > Markdown\n",
    "#    - Markdown syntax: http://nestacms.com/docs/creating-content/markdown-cheat-sheet\n",
    "\n",
    "\n",
    "# #Resources\n",
    "# Experiment information and data source: http://www.povertyactionlab.org/evaluation/discrimination-job-market-united-states\n",
    "# Scipy statistical methods: http://docs.scipy.org/doc/scipy/reference/stats.html \n",
    "# Markdown syntax: http://nestacms.com/docs/creating-content/markdown-cheat-sheet"
   ]
  },
  {
   "cell_type": "code",
   "execution_count": 3,
   "metadata": {
    "collapsed": true
   },
   "outputs": [],
   "source": [
    "import pandas as pd\n",
    "import numpy as np\n",
    "from scipy import stats"
   ]
  },
  {
   "cell_type": "code",
   "execution_count": 4,
   "metadata": {
    "collapsed": false
   },
   "outputs": [],
   "source": [
    "data = pd.io.stata.read_stata('data/us_job_market_discrimination.dta')"
   ]
  },
  {
   "cell_type": "code",
   "execution_count": 5,
   "metadata": {
    "collapsed": false
   },
   "outputs": [],
   "source": [
    "# # number of callbacks for black-sounding names\n",
    "# b_call = sum(data[data.race=='b'].call)\n",
    "# b_call \n",
    "\n",
    "# # number of callbacks for white-sounding names\n",
    "# w_call = sum(data[data.race=='w'].call)\n",
    "# w_call"
   ]
  },
  {
   "cell_type": "code",
   "execution_count": 6,
   "metadata": {
    "collapsed": false
   },
   "outputs": [
    {
     "name": "stdout",
     "output_type": "stream",
     "text": [
      "2435\n",
      "2435\n"
     ]
    }
   ],
   "source": [
    "#Extracting relevant columns.\n",
    "#Then separating data by race.\n",
    "\n",
    "data_race_call = data[['race','call']]\n",
    "\n",
    "data_race_call_w = data_race_call[data_race_call.race == 'w']\n",
    "data_race_call_b = data_race_call[data_race_call.race == 'b']\n",
    "\n",
    "print len(data_race_call_w)\n",
    "print len(data_race_call_b)"
   ]
  },
  {
   "cell_type": "code",
   "execution_count": 7,
   "metadata": {
    "collapsed": false
   },
   "outputs": [
    {
     "name": "stdout",
     "output_type": "stream",
     "text": [
      "0.0965092402464\n",
      "0.064476386037\n"
     ]
    }
   ],
   "source": [
    "#The distibution is not continuous, but binomial. \n",
    "#Let prop_w = proportion of data that is white and received a successful call back.\n",
    "#Let prop_b = proportion of data that is black and received a successful call back.\n",
    "\n",
    "prop_w = float(len(data_race_call_w[data_race_call_w.call == 1]))/float(len(data_race_call_w)) \n",
    "prop_b = float(len(data_race_call_b[data_race_call_b.call == 1]))/float(len(data_race_call_b))\n",
    "\n",
    "print(prop_w)\n",
    "print(prop_b) "
   ]
  },
  {
   "cell_type": "code",
   "execution_count": 8,
   "metadata": {
    "collapsed": false
   },
   "outputs": [
    {
     "name": "stdout",
     "output_type": "stream",
     "text": [
      "235.0\n",
      "2200.0\n",
      "157.0\n",
      "2278.0\n"
     ]
    }
   ],
   "source": [
    "#1\n",
    "\n",
    "#In order to verify that the relevant datasets fit normal distribution conditions, \n",
    "#can use the equation:\n",
    "\n",
    "# sample size(prop) is greater than or equal to 10 &\n",
    "# sample size(1-prop ) is greater than or equal to 10 as well.\n",
    "\n",
    "print (len(data_race_call_w)*prop_w)\n",
    "print (len(data_race_call_w)*(1-prop_w))\n",
    "\n",
    "print (len(data_race_call_b)*prop_b)\n",
    "print (len(data_race_call_b)*(1-prop_b))"
   ]
  },
  {
   "cell_type": "code",
   "execution_count": 9,
   "metadata": {
    "collapsed": true
   },
   "outputs": [],
   "source": [
    "#Given the values are greater than 10, the data fits normal distribution conditions.\n",
    "#Also, the CTL apply to these datasets as well.\n",
    "#Therefore, we can go ahead and use z-statistical analysis on these datasets."
   ]
  },
  {
   "cell_type": "code",
   "execution_count": 10,
   "metadata": {
    "collapsed": true
   },
   "outputs": [],
   "source": [
    "#2\n",
    "\n",
    "#The Null Hypothesis is: The average call backs for whites are the same as the avaerage callbacks\n",
    "#for blacks.\n",
    "\n",
    "#The Alternative Hypothesis is: The average call backs for whites are NOT the same as the avaerage callbacks\n",
    "#for blacks.\n",
    "\n",
    "#The significance level will be alpha = 0.05.\n",
    "#Therefore, according to the z-table, the critical value/ z = 1.96.\n",
    "#We will calculate the test statistic and see where it falls relative to this \n",
    "#critical value."
   ]
  },
  {
   "cell_type": "code",
   "execution_count": 11,
   "metadata": {
    "collapsed": false
   },
   "outputs": [
    {
     "data": {
      "text/plain": [
       "0.015255406349886438"
      ]
     },
     "execution_count": 11,
     "metadata": {},
     "output_type": "execute_result"
    }
   ],
   "source": [
    "#3\n",
    "\n",
    "#The margin of error is:\n",
    "\n",
    "#((prop_w(1-prop_w)/2435) + (prop_b(1-prop_b)/2435))^0.5\n",
    "\n",
    "import math\n",
    "\n",
    "z=1.96\n",
    "\n",
    "margin_error = z*math.sqrt(prop_w*(1-prop_w)/len(data_race_call_w)+prop_b*(1-prop_b)/len(data_race_call_b))\n",
    "                          \n",
    "margin_error"
   ]
  },
  {
   "cell_type": "code",
   "execution_count": 16,
   "metadata": {
    "collapsed": false
   },
   "outputs": [
    {
     "data": {
      "text/plain": [
       "[0.016777447859559147, 0.047288260559332024]"
      ]
     },
     "execution_count": 16,
     "metadata": {},
     "output_type": "execute_result"
    }
   ],
   "source": [
    "# confidence interval:\n",
    "\n",
    "#(prop_w - prop_b) +/- margin_error\n",
    "\n",
    "[prop_w-prop_b - margin_error, prop_w-prop_b + margin_error]"
   ]
  },
  {
   "cell_type": "code",
   "execution_count": 13,
   "metadata": {
    "collapsed": false
   },
   "outputs": [
    {
     "data": {
      "text/plain": [
       "(4.1084121524343464, 3.9838868375850767e-05)"
      ]
     },
     "execution_count": 13,
     "metadata": {},
     "output_type": "execute_result"
    }
   ],
   "source": [
    "#p-value:\n",
    "\n",
    "from statsmodels.stats.proportion import proportions_ztest as pz\n",
    "\n",
    "w_call = len(data_race_call_w[data_race_call_w.call == 1])\n",
    "b_call = len(data_race_call_b[data_race_call_b.call == 1])\n",
    "\n",
    "\n",
    "pz(np.array([w_call,b_call]), np.array([len(data_race_call_w),len(data_race_call_b)]),value = 0)"
   ]
  },
  {
   "cell_type": "code",
   "execution_count": 14,
   "metadata": {
    "collapsed": true
   },
   "outputs": [],
   "source": [
    "#4\n",
    "\n",
    "#The p-value is the second value in the tuple.\n",
    "#It is a small value. Therefore, we have strong evidence that the null Hypothesis is not likely.\n",
    "#We can reject the Null Hypothesis in favor of the Alternative Hypothesis,\n",
    "#which states that race has an effect on callbacks on resumes."
   ]
  },
  {
   "cell_type": "code",
   "execution_count": 15,
   "metadata": {
    "collapsed": false
   },
   "outputs": [],
   "source": [
    "#5 \n",
    "\n",
    "#This analysis does not mean that race/name is the most important factor in callback successes.\n",
    "#There are many other candidate features that were considered by the employer in order for the \n",
    "#candidate to receive a call back.\n",
    "\n",
    "#In order to amend my analysis, I would have to emphasize the significance level for the Hypothesis\n",
    "#test and state that even though there was a conclusion made it is not guaranteed. \n",
    "#I cannot say for sure, I do not know 100% that there is a difference between the proportion means.\n",
    "#However, statistically, there is a difference between white and black proportions. "
   ]
  }
 ],
 "metadata": {
  "anaconda-cloud": {},
  "kernelspec": {
   "display_name": "Python [default]",
   "language": "python",
   "name": "python2"
  },
  "language_info": {
   "codemirror_mode": {
    "name": "ipython",
    "version": 2
   },
   "file_extension": ".py",
   "mimetype": "text/x-python",
   "name": "python",
   "nbconvert_exporter": "python",
   "pygments_lexer": "ipython2",
   "version": "2.7.13"
  }
 },
 "nbformat": 4,
 "nbformat_minor": 0
}
