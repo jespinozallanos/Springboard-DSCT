{
 "cells": [
  {
   "cell_type": "code",
   "execution_count": 1,
   "metadata": {
    "collapsed": true
   },
   "outputs": [],
   "source": [
    "import pandas as pd\n",
    "import numpy as np"
   ]
  },
  {
   "cell_type": "code",
   "execution_count": 2,
   "metadata": {
    "collapsed": false
   },
   "outputs": [],
   "source": [
    "rng = pd.date_range('1/1/2011', periods = 72, freq = 'H')\n",
    "ts = pd.Series(list(range(len(rng))), index = rng)"
   ]
  },
  {
   "cell_type": "code",
   "execution_count": 3,
   "metadata": {
    "collapsed": false
   },
   "outputs": [
    {
     "data": {
      "text/plain": [
       "2011-01-01 00:00:00     0\n",
       "2011-01-01 00:45:00     0\n",
       "2011-01-01 01:30:00     1\n",
       "2011-01-01 02:15:00     2\n",
       "2011-01-01 03:00:00     3\n",
       "2011-01-01 03:45:00     3\n",
       "2011-01-01 04:30:00     4\n",
       "2011-01-01 05:15:00     5\n",
       "2011-01-01 06:00:00     6\n",
       "2011-01-01 06:45:00     6\n",
       "2011-01-01 07:30:00     7\n",
       "2011-01-01 08:15:00     8\n",
       "2011-01-01 09:00:00     9\n",
       "2011-01-01 09:45:00     9\n",
       "2011-01-01 10:30:00    10\n",
       "2011-01-01 11:15:00    11\n",
       "2011-01-01 12:00:00    12\n",
       "2011-01-01 12:45:00    12\n",
       "2011-01-01 13:30:00    13\n",
       "2011-01-01 14:15:00    14\n",
       "2011-01-01 15:00:00    15\n",
       "2011-01-01 15:45:00    15\n",
       "2011-01-01 16:30:00    16\n",
       "2011-01-01 17:15:00    17\n",
       "2011-01-01 18:00:00    18\n",
       "2011-01-01 18:45:00    18\n",
       "2011-01-01 19:30:00    19\n",
       "2011-01-01 20:15:00    20\n",
       "2011-01-01 21:00:00    21\n",
       "2011-01-01 21:45:00    21\n",
       "                       ..\n",
       "2011-01-03 00:45:00    48\n",
       "2011-01-03 01:30:00    49\n",
       "2011-01-03 02:15:00    50\n",
       "2011-01-03 03:00:00    51\n",
       "2011-01-03 03:45:00    51\n",
       "2011-01-03 04:30:00    52\n",
       "2011-01-03 05:15:00    53\n",
       "2011-01-03 06:00:00    54\n",
       "2011-01-03 06:45:00    54\n",
       "2011-01-03 07:30:00    55\n",
       "2011-01-03 08:15:00    56\n",
       "2011-01-03 09:00:00    57\n",
       "2011-01-03 09:45:00    57\n",
       "2011-01-03 10:30:00    58\n",
       "2011-01-03 11:15:00    59\n",
       "2011-01-03 12:00:00    60\n",
       "2011-01-03 12:45:00    60\n",
       "2011-01-03 13:30:00    61\n",
       "2011-01-03 14:15:00    62\n",
       "2011-01-03 15:00:00    63\n",
       "2011-01-03 15:45:00    63\n",
       "2011-01-03 16:30:00    64\n",
       "2011-01-03 17:15:00    65\n",
       "2011-01-03 18:00:00    66\n",
       "2011-01-03 18:45:00    66\n",
       "2011-01-03 19:30:00    67\n",
       "2011-01-03 20:15:00    68\n",
       "2011-01-03 21:00:00    69\n",
       "2011-01-03 21:45:00    69\n",
       "2011-01-03 22:30:00    70\n",
       "Freq: 45T, dtype: int64"
      ]
     },
     "execution_count": 3,
     "metadata": {},
     "output_type": "execute_result"
    }
   ],
   "source": [
    "converted = ts.asfreq('45Min', method = 'ffill')\n",
    "converted"
   ]
  },
  {
   "cell_type": "markdown",
   "metadata": {},
   "source": [
    "### What does the above code do to the size and content of your data frame?"
   ]
  },
  {
   "cell_type": "code",
   "execution_count": 4,
   "metadata": {
    "collapsed": false
   },
   "outputs": [
    {
     "data": {
      "text/plain": [
       "(72,)"
      ]
     },
     "execution_count": 4,
     "metadata": {},
     "output_type": "execute_result"
    }
   ],
   "source": [
    "ts.shape"
   ]
  },
  {
   "cell_type": "code",
   "execution_count": 5,
   "metadata": {
    "collapsed": false
   },
   "outputs": [
    {
     "data": {
      "text/plain": [
       "(95,)"
      ]
     },
     "execution_count": 5,
     "metadata": {},
     "output_type": "execute_result"
    }
   ],
   "source": [
    "converted.shape"
   ]
  },
  {
   "cell_type": "code",
   "execution_count": 6,
   "metadata": {
    "collapsed": false,
    "scrolled": true
   },
   "outputs": [
    {
     "data": {
      "text/plain": [
       "2011-01-01 00:00:00     0.0\n",
       "2011-01-01 00:45:00     NaN\n",
       "2011-01-01 01:30:00     NaN\n",
       "2011-01-01 02:15:00     NaN\n",
       "2011-01-01 03:00:00     3.0\n",
       "2011-01-01 03:45:00     NaN\n",
       "2011-01-01 04:30:00     NaN\n",
       "2011-01-01 05:15:00     NaN\n",
       "2011-01-01 06:00:00     6.0\n",
       "2011-01-01 06:45:00     NaN\n",
       "2011-01-01 07:30:00     NaN\n",
       "2011-01-01 08:15:00     NaN\n",
       "2011-01-01 09:00:00     9.0\n",
       "2011-01-01 09:45:00     NaN\n",
       "2011-01-01 10:30:00     NaN\n",
       "2011-01-01 11:15:00     NaN\n",
       "2011-01-01 12:00:00    12.0\n",
       "2011-01-01 12:45:00     NaN\n",
       "2011-01-01 13:30:00     NaN\n",
       "2011-01-01 14:15:00     NaN\n",
       "2011-01-01 15:00:00    15.0\n",
       "2011-01-01 15:45:00     NaN\n",
       "2011-01-01 16:30:00     NaN\n",
       "2011-01-01 17:15:00     NaN\n",
       "2011-01-01 18:00:00    18.0\n",
       "2011-01-01 18:45:00     NaN\n",
       "2011-01-01 19:30:00     NaN\n",
       "2011-01-01 20:15:00     NaN\n",
       "2011-01-01 21:00:00    21.0\n",
       "2011-01-01 21:45:00     NaN\n",
       "                       ... \n",
       "2011-01-03 00:45:00     NaN\n",
       "2011-01-03 01:30:00     NaN\n",
       "2011-01-03 02:15:00     NaN\n",
       "2011-01-03 03:00:00    51.0\n",
       "2011-01-03 03:45:00     NaN\n",
       "2011-01-03 04:30:00     NaN\n",
       "2011-01-03 05:15:00     NaN\n",
       "2011-01-03 06:00:00    54.0\n",
       "2011-01-03 06:45:00     NaN\n",
       "2011-01-03 07:30:00     NaN\n",
       "2011-01-03 08:15:00     NaN\n",
       "2011-01-03 09:00:00    57.0\n",
       "2011-01-03 09:45:00     NaN\n",
       "2011-01-03 10:30:00     NaN\n",
       "2011-01-03 11:15:00     NaN\n",
       "2011-01-03 12:00:00    60.0\n",
       "2011-01-03 12:45:00     NaN\n",
       "2011-01-03 13:30:00     NaN\n",
       "2011-01-03 14:15:00     NaN\n",
       "2011-01-03 15:00:00    63.0\n",
       "2011-01-03 15:45:00     NaN\n",
       "2011-01-03 16:30:00     NaN\n",
       "2011-01-03 17:15:00     NaN\n",
       "2011-01-03 18:00:00    66.0\n",
       "2011-01-03 18:45:00     NaN\n",
       "2011-01-03 19:30:00     NaN\n",
       "2011-01-03 20:15:00     NaN\n",
       "2011-01-03 21:00:00    69.0\n",
       "2011-01-03 21:45:00     NaN\n",
       "2011-01-03 22:30:00     NaN\n",
       "Freq: 45T, dtype: float64"
      ]
     },
     "execution_count": 6,
     "metadata": {},
     "output_type": "execute_result"
    }
   ],
   "source": [
    "ts.asfreq('45 min')"
   ]
  },
  {
   "cell_type": "code",
   "execution_count": 7,
   "metadata": {
    "collapsed": false
   },
   "outputs": [
    {
     "data": {
      "text/plain": [
       "2011-01-01 00:45:00    0\n",
       "2011-01-01 01:30:00    1\n",
       "2011-01-01 02:15:00    2\n",
       "2011-01-01 03:00:00    3\n",
       "2011-01-01 03:45:00    3\n",
       "2011-01-01 04:30:00    4\n",
       "2011-01-01 05:15:00    5\n",
       "2011-01-01 06:00:00    6\n",
       "2011-01-01 06:45:00    6\n",
       "Freq: 45T, dtype: int64"
      ]
     },
     "execution_count": 7,
     "metadata": {},
     "output_type": "execute_result"
    }
   ],
   "source": [
    "converted[1:10]"
   ]
  },
  {
   "cell_type": "code",
   "execution_count": 8,
   "metadata": {
    "collapsed": false
   },
   "outputs": [
    {
     "data": {
      "text/plain": [
       "2011-01-01 01:00:00    1\n",
       "2011-01-01 02:00:00    2\n",
       "2011-01-01 03:00:00    3\n",
       "2011-01-01 04:00:00    4\n",
       "2011-01-01 05:00:00    5\n",
       "2011-01-01 06:00:00    6\n",
       "2011-01-01 07:00:00    7\n",
       "2011-01-01 08:00:00    8\n",
       "2011-01-01 09:00:00    9\n",
       "Freq: H, dtype: int64"
      ]
     },
     "execution_count": 8,
     "metadata": {},
     "output_type": "execute_result"
    }
   ],
   "source": [
    "ts[1:10]"
   ]
  },
  {
   "cell_type": "markdown",
   "metadata": {},
   "source": [
    "### Take a look at the specs for .asfreq(). What are your options for filling in missing data?"
   ]
  },
  {
   "cell_type": "code",
   "execution_count": null,
   "metadata": {
    "collapsed": true
   },
   "outputs": [],
   "source": []
  },
  {
   "cell_type": "markdown",
   "metadata": {},
   "source": [
    "### How can you go to less frequent rather than more frequent?"
   ]
  },
  {
   "cell_type": "code",
   "execution_count": 9,
   "metadata": {
    "collapsed": true
   },
   "outputs": [],
   "source": [
    "converted = ts.asfreq('3H')"
   ]
  },
  {
   "cell_type": "code",
   "execution_count": 10,
   "metadata": {
    "collapsed": false
   },
   "outputs": [
    {
     "data": {
      "text/plain": [
       "2011-01-01 03:00:00     3\n",
       "2011-01-01 06:00:00     6\n",
       "2011-01-01 09:00:00     9\n",
       "2011-01-01 12:00:00    12\n",
       "2011-01-01 15:00:00    15\n",
       "2011-01-01 18:00:00    18\n",
       "2011-01-01 21:00:00    21\n",
       "2011-01-02 00:00:00    24\n",
       "2011-01-02 03:00:00    27\n",
       "Freq: 3H, dtype: int64"
      ]
     },
     "execution_count": 10,
     "metadata": {},
     "output_type": "execute_result"
    }
   ],
   "source": [
    "converted[1:10]"
   ]
  },
  {
   "cell_type": "code",
   "execution_count": 11,
   "metadata": {
    "collapsed": false
   },
   "outputs": [
    {
     "data": {
      "text/plain": [
       "2011-01-01 01:00:00    1\n",
       "2011-01-01 02:00:00    2\n",
       "2011-01-01 03:00:00    3\n",
       "2011-01-01 04:00:00    4\n",
       "2011-01-01 05:00:00    5\n",
       "2011-01-01 06:00:00    6\n",
       "2011-01-01 07:00:00    7\n",
       "2011-01-01 08:00:00    8\n",
       "2011-01-01 09:00:00    9\n",
       "Freq: H, dtype: int64"
      ]
     },
     "execution_count": 11,
     "metadata": {},
     "output_type": "execute_result"
    }
   ],
   "source": [
    "ts[1:10]"
   ]
  },
  {
   "cell_type": "code",
   "execution_count": 12,
   "metadata": {
    "collapsed": false
   },
   "outputs": [
    {
     "data": {
      "text/plain": [
       "2011-01-01 02:00:00     2.5\n",
       "2011-01-01 04:00:00     4.5\n",
       "2011-01-01 06:00:00     6.5\n",
       "2011-01-01 08:00:00     8.5\n",
       "2011-01-01 10:00:00    10.5\n",
       "2011-01-01 12:00:00    12.5\n",
       "2011-01-01 14:00:00    14.5\n",
       "2011-01-01 16:00:00    16.5\n",
       "2011-01-01 18:00:00    18.5\n",
       "Freq: 2H, dtype: float64"
      ]
     },
     "execution_count": 12,
     "metadata": {},
     "output_type": "execute_result"
    }
   ],
   "source": [
    "# Let's try the more flexible .resample()\n",
    "ts.resample('2H').mean()[1:10]"
   ]
  },
  {
   "cell_type": "code",
   "execution_count": 13,
   "metadata": {
    "collapsed": false
   },
   "outputs": [],
   "source": [
    "# What's particularly useful is that we can use reample to event out irregular time series\n",
    "irreg_ts = ts[list(np.random.choice(a = list(range(len(ts))), size = 10, replace = False))]"
   ]
  },
  {
   "cell_type": "code",
   "execution_count": 14,
   "metadata": {
    "collapsed": false
   },
   "outputs": [
    {
     "data": {
      "text/plain": [
       "2011-01-02 08:00:00    32\n",
       "2011-01-03 08:00:00    56\n",
       "2011-01-01 11:00:00    11\n",
       "2011-01-02 03:00:00    27\n",
       "2011-01-03 01:00:00    49\n",
       "2011-01-01 08:00:00     8\n",
       "2011-01-01 19:00:00    19\n",
       "2011-01-03 22:00:00    70\n",
       "2011-01-02 05:00:00    29\n",
       "2011-01-01 23:00:00    23\n",
       "dtype: int64"
      ]
     },
     "execution_count": 14,
     "metadata": {},
     "output_type": "execute_result"
    }
   ],
   "source": [
    "irreg_ts"
   ]
  },
  {
   "cell_type": "code",
   "execution_count": 15,
   "metadata": {
    "collapsed": false
   },
   "outputs": [
    {
     "data": {
      "text/plain": [
       "Series([], Freq: D, dtype: int64)"
      ]
     },
     "execution_count": 15,
     "metadata": {},
     "output_type": "execute_result"
    }
   ],
   "source": [
    "irreg_ts.asfreq('D')"
   ]
  },
  {
   "cell_type": "markdown",
   "metadata": {},
   "source": [
    "### Why didn't that work?"
   ]
  },
  {
   "cell_type": "code",
   "execution_count": 16,
   "metadata": {
    "collapsed": false
   },
   "outputs": [
    {
     "data": {
      "text/plain": [
       "2011-01-01 08:00:00     8\n",
       "2011-01-01 11:00:00    11\n",
       "2011-01-01 19:00:00    19\n",
       "2011-01-01 23:00:00    23\n",
       "2011-01-02 03:00:00    27\n",
       "2011-01-02 05:00:00    29\n",
       "2011-01-02 08:00:00    32\n",
       "2011-01-03 01:00:00    49\n",
       "2011-01-03 08:00:00    56\n",
       "2011-01-03 22:00:00    70\n",
       "dtype: int64"
      ]
     },
     "execution_count": 16,
     "metadata": {},
     "output_type": "execute_result"
    }
   ],
   "source": [
    "irreg_ts = irreg_ts.sort_index()\n",
    "irreg_ts"
   ]
  },
  {
   "cell_type": "code",
   "execution_count": 17,
   "metadata": {
    "collapsed": false
   },
   "outputs": [
    {
     "data": {
      "text/plain": [
       "2011-01-01 08:00:00     8\n",
       "2011-01-02 08:00:00    32\n",
       "2011-01-03 08:00:00    56\n",
       "Freq: D, dtype: int64"
      ]
     },
     "execution_count": 17,
     "metadata": {},
     "output_type": "execute_result"
    }
   ],
   "source": [
    "irreg_ts.asfreq('D')"
   ]
  },
  {
   "cell_type": "code",
   "execution_count": 18,
   "metadata": {
    "collapsed": false
   },
   "outputs": [
    {
     "data": {
      "text/plain": [
       "2011-01-01    4\n",
       "2011-01-02    3\n",
       "2011-01-03    3\n",
       "Freq: D, dtype: int64"
      ]
     },
     "execution_count": 18,
     "metadata": {},
     "output_type": "execute_result"
    }
   ],
   "source": [
    "irreg_ts.resample('D').count()"
   ]
  },
  {
   "cell_type": "markdown",
   "metadata": {},
   "source": [
    "# Try\n",
    "\n",
    "(1) What if you want to go to a higher frequency, but you don't want to back fill or forward fill? Why might you want to do that?\n",
    "\n",
    "(2) What is the difference between .ressample() and .asfreq()?\n",
    "\n",
    "(3) How can I forward-fill only a few days? (hint: .fillna())\n",
    "\n",
    "(4) What are some helpful functions to use with a Resampler object?"
   ]
  },
  {
   "cell_type": "code",
   "execution_count": 19,
   "metadata": {
    "collapsed": false
   },
   "outputs": [
    {
     "data": {
      "text/plain": [
       "2011-01-01 08:00:00     8\n",
       "2011-01-01 11:00:00    11\n",
       "2011-01-01 19:00:00    19\n",
       "2011-01-01 23:00:00    23\n",
       "2011-01-02 03:00:00    27\n",
       "2011-01-02 05:00:00    29\n",
       "2011-01-02 08:00:00    32\n",
       "2011-01-03 01:00:00    49\n",
       "2011-01-03 08:00:00    56\n",
       "2011-01-03 22:00:00    70\n",
       "dtype: int64"
      ]
     },
     "execution_count": 19,
     "metadata": {},
     "output_type": "execute_result"
    }
   ],
   "source": [
    "irreg_ts.fillna(method = 'ffill',limit = 5)"
   ]
  }
 ],
 "metadata": {
  "kernelspec": {
   "display_name": "Python [conda root]",
   "language": "python",
   "name": "conda-root-py"
  },
  "language_info": {
   "codemirror_mode": {
    "name": "ipython",
    "version": 2
   },
   "file_extension": ".py",
   "mimetype": "text/x-python",
   "name": "python",
   "nbconvert_exporter": "python",
   "pygments_lexer": "ipython2",
   "version": "2.7.13"
  }
 },
 "nbformat": 4,
 "nbformat_minor": 0
}
