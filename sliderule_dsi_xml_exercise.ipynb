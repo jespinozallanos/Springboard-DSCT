{
 "cells": [
  {
   "cell_type": "markdown",
   "metadata": {},
   "source": [
    "# XML example and exercise\n",
    "****\n",
    "+ study examples of accessing nodes in XML tree structure  \n",
    "+ work on exercise to be completed and submitted\n",
    "****\n",
    "+ reference: https://docs.python.org/2.7/library/xml.etree.elementtree.html\n",
    "+ data source: http://www.dbis.informatik.uni-goettingen.de/Mondial\n",
    "****"
   ]
  },
  {
   "cell_type": "code",
   "execution_count": 61,
   "metadata": {
    "collapsed": true
   },
   "outputs": [],
   "source": [
    "from xml.etree import ElementTree as ET"
   ]
  },
  {
   "cell_type": "markdown",
   "metadata": {},
   "source": [
    "## XML example\n",
    "\n",
    "+ for details about tree traversal and iterators, see https://docs.python.org/2.7/library/xml.etree.elementtree.html"
   ]
  },
  {
   "cell_type": "code",
   "execution_count": 62,
   "metadata": {
    "collapsed": true
   },
   "outputs": [],
   "source": [
    "document_tree = ET.parse( './data/mondial_database_less.xml' )"
   ]
  },
  {
   "cell_type": "code",
   "execution_count": 63,
   "metadata": {
    "collapsed": false
   },
   "outputs": [
    {
     "name": "stdout",
     "output_type": "stream",
     "text": [
      "Albania\n",
      "Greece\n",
      "Macedonia\n",
      "Serbia\n",
      "Montenegro\n",
      "Kosovo\n",
      "Andorra\n"
     ]
    }
   ],
   "source": [
    "# print names of all countries\n",
    "for child in document_tree.getroot():\n",
    "    print child.find('name').text"
   ]
  },
  {
   "cell_type": "code",
   "execution_count": 64,
   "metadata": {
    "collapsed": false
   },
   "outputs": [
    {
     "name": "stdout",
     "output_type": "stream",
     "text": [
      "* Albania: Tirana, Shkodër, Durrës, Vlorë, Elbasan, Korçë\n",
      "* Greece: Komotini, Kavala, Athina, Peiraias, Peristeri, Acharnes, Patra, Kozani, Kerkyra, Ioannina, Thessaloniki, Iraklio, Chania, Ermoupoli, Rhodes, Tripoli, Lamia, Chalkida, Larissa, Volos, Mytilini, Karyes\n",
      "* Macedonia: Skopje, Kumanovo\n",
      "* Serbia: Beograd, Novi Sad, Niš\n",
      "* Montenegro: Podgorica\n",
      "* Kosovo: Prishtine\n",
      "* Andorra: Andorra la Vella\n"
     ]
    }
   ],
   "source": [
    "# print names of all countries and their cities\n",
    "for element in document_tree.iterfind('country'):\n",
    "    print '* ' + element.find('name').text + ':',\n",
    "    capitals_string = ''\n",
    "    for subelement in element.getiterator('city'):\n",
    "        capitals_string += subelement.find('name').text + ', '\n",
    "    print capitals_string[:-2]"
   ]
  },
  {
   "cell_type": "markdown",
   "metadata": {},
   "source": [
    "****\n",
    "## XML exercise\n",
    "\n",
    "Using data in 'data/mondial_database.xml', the examples above, and refering to https://docs.python.org/2.7/library/xml.etree.elementtree.html, find\n",
    "\n",
    "1. 10 countries with the lowest infant mortality rates\n",
    "2. 10 cities with the largest population\n",
    "3. 10 ethnic groups with the largest overall populations (sum of best/latest estimates over all countries)\n",
    "4. name and country of a) longest river, b) largest lake and c) airport at highest elevation"
   ]
  },
  {
   "cell_type": "code",
   "execution_count": 65,
   "metadata": {
    "collapsed": true
   },
   "outputs": [],
   "source": [
    "main_document_tree = ET.parse( './data/mondial_database.xml' )"
   ]
  },
  {
   "cell_type": "code",
   "execution_count": 66,
   "metadata": {
    "collapsed": false
   },
   "outputs": [
    {
     "name": "stdout",
     "output_type": "stream",
     "text": [
      "[('Monaco', 1.81), ('Japan', 2.13), ('Norway', 2.48), ('Bermuda', 2.48), ('Singapore', 2.53), ('Sweden', 2.6), ('Czech Republic', 2.63), ('Hong Kong', 2.73), ('Macao', 3.13), ('Iceland', 3.15)]\n"
     ]
    }
   ],
   "source": [
    "# 1. 10 countries with the lowest infant mortality rates\n",
    "\n",
    "#get country -> name -> infant mortality \n",
    "\n",
    "for country in main_document_tree.iterfind('country'):\n",
    "    if country.find('infant_mortality') is None:\n",
    "        pass\n",
    "    else:\n",
    "\t\tname = country.find('name').text\n",
    "\t\tinf_mort = country.find('infant_mortality').text\n",
    "\t\td[name] = float(inf_mort)\n",
    "\n",
    "ordered_dict = sorted(d.items(), key=operator.itemgetter(1))\n",
    "\n",
    "print ordered_dict[:10] "
   ]
  },
  {
   "cell_type": "code",
   "execution_count": 67,
   "metadata": {
    "collapsed": false
   },
   "outputs": [
    {
     "name": "stdout",
     "output_type": "stream",
     "text": [
      "[(('China', 'Han Chinese'), 1245058800.0), ('China', 1242612226), (('India', 'Dravidian'), 302713744.25), ('United States', 281414181), (('United States', 'European'), 254958101.97759998), ('Indonesia', 205132458), ('Brazil', 169799170), (('Nigeria', 'African'), 162651570.84), (('Bangladesh', 'Bengali'), 146776916.72), ('Russia', 146762881)]\n"
     ]
    }
   ],
   "source": [
    "# 2. 10 cities with the largest population\n",
    "\n",
    "# country -> population (year 2000 chosen since has largest amount of recordings)\n",
    "\n",
    "for country in main_document_tree.iterfind('country'):\n",
    "    if country.find(\"population[@year='2000']\") is None:\n",
    "        pass\n",
    "    else:\n",
    "        name = country.find('name').text\n",
    "        population= country.find(\"population[@year='2000']\").text\n",
    "        d[name] = int(population)\n",
    "        \n",
    "sorted_dict = sorted(d.items(), key = operator.itemgetter(1), reverse = True)\n",
    "    \n",
    "print sorted_dict[:10]\n"
   ]
  },
  {
   "cell_type": "code",
   "execution_count": 82,
   "metadata": {
    "collapsed": false
   },
   "outputs": [
    {
     "name": "stdout",
     "output_type": "stream",
     "text": [
      "[(('China', 'Han Chinese'), 1245058800.0), (('India', 'Dravidian'), 302713744.25), (('United States', 'European'), 254958101.97759998), (('Nigeria', 'African'), 162651570.84), (('Bangladesh', 'Bengali'), 146776916.72), (('Japan', 'Japanese'), 126534212.00000001), (('Russia', 'Russian'), 114646210.938), (('Indonesia', 'Javanese'), 113456006.10000001), (('Brazil', 'European'), 108886717.794), (('Vietnam', 'Viet/Kinh'), 76078375.3)]\n"
     ]
    }
   ],
   "source": [
    "# 3. 10 ethnic groups with the largest overall populations (sum of best/latest estimates over all countries)\n",
    "\n",
    "d = {}\n",
    "for country in main_document_tree.iterfind('country'):\n",
    "    if country.find('./ethnicgroup[1][@percentage]') is None:\n",
    "        pass\n",
    "    else:\n",
    "        lastpop = int(country.find('./population[last()]').text)\n",
    "        eth = country.find('./ethnicgroup[1]')\n",
    "        ethname = eth.text\n",
    "        ethperc = float(eth.get('percentage'))/100\n",
    "#         print country.find('name').text, ethnicname\n",
    "#         print lastpop * ethicperc\n",
    "        d[country.find('name').text, ethname] = lastpop * ethperc\n",
    "  \n",
    "sorted_d = sorted(d.items(), key=operator.itemgetter(1), reverse=True)[:10]\n",
    "print sorted_d"
   ]
  },
  {
   "cell_type": "code",
   "execution_count": 89,
   "metadata": {
    "collapsed": false
   },
   "outputs": [
    {
     "name": "stdout",
     "output_type": "stream",
     "text": [
      "[(('river-Amazonas', 'CO BR PE'), 6448.0)]\n"
     ]
    }
   ],
   "source": [
    "# 4. name and country of longest river\n",
    "\n",
    "d = {}\n",
    "for river in main_document_tree.iterfind('river'):\n",
    "    name = river.get('id')\n",
    "#     print name\n",
    "    country = river.get('country')\n",
    "#     print country\n",
    "    length = river.find('./length')\n",
    "    if length is None:\n",
    "        pass\n",
    "    else:\n",
    "#         print float(length.text)\n",
    "        d[name, country]=float(length.text)\n",
    "        \n",
    "sorted_d = sorted(d.items(), key=operator.itemgetter(1), reverse=True)[:1]\n",
    "print sorted_d"
   ]
  },
  {
   "cell_type": "code",
   "execution_count": 90,
   "metadata": {
    "collapsed": false
   },
   "outputs": [
    {
     "name": "stdout",
     "output_type": "stream",
     "text": [
      "[(('lake-KaspischesMeer', 'R AZ KAZ IR TM'), 386400.0)]\n"
     ]
    }
   ],
   "source": [
    "# 4. name and country of largest lake\n",
    "\n",
    "d = {}\n",
    "for lake in main_document_tree.iterfind('lake'):\n",
    "    name = lake.get('id')\n",
    "#     print name\n",
    "    country = lake.get('country')\n",
    "#     print country\n",
    "    area = lake.find('./area')\n",
    "    if area is None:\n",
    "        pass\n",
    "    else:\n",
    "#         print float(area.text)\n",
    "        d[name, country] = float(area.text)\n",
    "        \n",
    "sorted_d = sorted(d.items(), key=operator.itemgetter(1), reverse=True)[:1]\n",
    "print sorted_d"
   ]
  },
  {
   "cell_type": "code",
   "execution_count": 91,
   "metadata": {
    "collapsed": false
   },
   "outputs": [
    {
     "name": "stdout",
     "output_type": "stream",
     "text": [
      "[(('LPB', 'BOL'), 4063.0)]\n"
     ]
    }
   ],
   "source": [
    "# 4. name and country of airport at highest elevation\n",
    "\n",
    "d = {}\n",
    "for airport in main_document_tree.iterfind('airport'):\n",
    "    name = airport.get('iatacode')\n",
    "#     print name\n",
    "    country = airport.get('country')\n",
    "#     print country\n",
    "    elevation = airport.findtext('./elevation')\n",
    "#     print type(elevation)\n",
    "    if elevation is None:\n",
    "        pass\n",
    "    elif elevation =='':\n",
    "        pass\n",
    "    else:\n",
    "#         print float(elevation)\n",
    "        d[name, country]=float(elevation)\n",
    "        \n",
    "sorted_d = sorted(d.items(), key = operator.itemgetter(1), reverse=True)[:1]\n",
    "print sorted_d"
   ]
  }
 ],
 "metadata": {
  "anaconda-cloud": {},
  "kernelspec": {
   "display_name": "Python [default]",
   "language": "python",
   "name": "python2"
  },
  "language_info": {
   "codemirror_mode": {
    "name": "ipython",
    "version": 2
   },
   "file_extension": ".py",
   "mimetype": "text/x-python",
   "name": "python",
   "nbconvert_exporter": "python",
   "pygments_lexer": "ipython2",
   "version": "2.7.13"
  }
 },
 "nbformat": 4,
 "nbformat_minor": 0
}
