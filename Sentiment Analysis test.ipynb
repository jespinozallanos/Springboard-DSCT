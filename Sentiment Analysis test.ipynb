{
 "cells": [
  {
   "cell_type": "code",
   "execution_count": 3,
   "metadata": {
    "collapsed": false
   },
   "outputs": [
    {
     "ename": "OSError",
     "evalue": "[Errno 2] No such file or directory: '-f/pos'",
     "output_type": "error",
     "traceback": [
      "\u001b[0;31m---------------------------------------------------------------------------\u001b[0m",
      "\u001b[0;31mOSError\u001b[0m                                   Traceback (most recent call last)",
      "\u001b[0;32m<ipython-input-3-8ffc68528c97>\u001b[0m in \u001b[0;36m<module>\u001b[0;34m()\u001b[0m\n\u001b[1;32m     27\u001b[0m     \u001b[0;32mfor\u001b[0m \u001b[0mcurr_class\u001b[0m \u001b[0;32min\u001b[0m \u001b[0mclasses\u001b[0m\u001b[0;34m:\u001b[0m\u001b[0;34m\u001b[0m\u001b[0m\n\u001b[1;32m     28\u001b[0m         \u001b[0mdirname\u001b[0m \u001b[0;34m=\u001b[0m \u001b[0mos\u001b[0m\u001b[0;34m.\u001b[0m\u001b[0mpath\u001b[0m\u001b[0;34m.\u001b[0m\u001b[0mjoin\u001b[0m\u001b[0;34m(\u001b[0m\u001b[0mdata_dir\u001b[0m\u001b[0;34m,\u001b[0m \u001b[0mcurr_class\u001b[0m\u001b[0;34m)\u001b[0m\u001b[0;34m\u001b[0m\u001b[0m\n\u001b[0;32m---> 29\u001b[0;31m         \u001b[0;32mfor\u001b[0m \u001b[0mfname\u001b[0m \u001b[0;32min\u001b[0m \u001b[0mos\u001b[0m\u001b[0;34m.\u001b[0m\u001b[0mlistdir\u001b[0m\u001b[0;34m(\u001b[0m\u001b[0mdirname\u001b[0m\u001b[0;34m)\u001b[0m\u001b[0;34m:\u001b[0m\u001b[0;34m\u001b[0m\u001b[0m\n\u001b[0m\u001b[1;32m     30\u001b[0m             \u001b[0;32mwith\u001b[0m \u001b[0mopen\u001b[0m\u001b[0;34m(\u001b[0m\u001b[0mos\u001b[0m\u001b[0;34m.\u001b[0m\u001b[0mpath\u001b[0m\u001b[0;34m.\u001b[0m\u001b[0mjoin\u001b[0m\u001b[0;34m(\u001b[0m\u001b[0mdirname\u001b[0m\u001b[0;34m,\u001b[0m \u001b[0mfname\u001b[0m\u001b[0;34m)\u001b[0m\u001b[0;34m,\u001b[0m \u001b[0;34m'r'\u001b[0m\u001b[0;34m)\u001b[0m \u001b[0;32mas\u001b[0m \u001b[0mf\u001b[0m\u001b[0;34m:\u001b[0m\u001b[0;34m\u001b[0m\u001b[0m\n\u001b[1;32m     31\u001b[0m                 \u001b[0mcontent\u001b[0m \u001b[0;34m=\u001b[0m \u001b[0mf\u001b[0m\u001b[0;34m.\u001b[0m\u001b[0mread\u001b[0m\u001b[0;34m(\u001b[0m\u001b[0;34m)\u001b[0m\u001b[0;34m\u001b[0m\u001b[0m\n",
      "\u001b[0;31mOSError\u001b[0m: [Errno 2] No such file or directory: '-f/pos'"
     ]
    }
   ],
   "source": [
    "import sys\n",
    "import os\n",
    "import time\n",
    "\n",
    "from sklearn.feature_extraction.text import TfidfVectorizer\n",
    "from sklearn import svm\n",
    "from sklearn.metrics import classification_report\n",
    "\n",
    "def usage():\n",
    "    print(\"Usage:\")\n",
    "    print(\"python %s <data_dir>\" % sys.argv[0])\n",
    "\n",
    "if __name__ == '__main__':\n",
    "\n",
    "    if len(sys.argv) < 2:\n",
    "        usage()\n",
    "        sys.exit(1)\n",
    "\n",
    "    data_dir = sys.argv[1]\n",
    "    classes = ['pos', 'neg']\n",
    "\n",
    "    # Read the data\n",
    "    train_data = []\n",
    "    train_labels = []\n",
    "    test_data = []\n",
    "    test_labels = []\n",
    "    for curr_class in classes:\n",
    "        dirname = os.path.join(data_dir, curr_class)\n",
    "        for fname in os.listdir(dirname):\n",
    "            with open(os.path.join(dirname, fname), 'r') as f:\n",
    "                content = f.read()\n",
    "                if fname.startswith('cv9'):\n",
    "                    test_data.append(content)\n",
    "                    test_labels.append(curr_class)\n",
    "                else:\n",
    "                    train_data.append(content)\n",
    "                    train_labels.append(curr_class)\n",
    "\n",
    "    # Create feature vectors\n",
    "    vectorizer = TfidfVectorizer(min_df=5,\n",
    "                                 max_df = 0.8,\n",
    "                                 sublinear_tf=True,\n",
    "                                 use_idf=True)\n",
    "    train_vectors = vectorizer.fit_transform(train_data)\n",
    "    test_vectors = vectorizer.transform(test_data)\n",
    "\n",
    "    # Perform classification with SVM, kernel=rbf\n",
    "    classifier_rbf = svm.SVC()\n",
    "    t0 = time.time()\n",
    "    classifier_rbf.fit(train_vectors, train_labels)\n",
    "    t1 = time.time()\n",
    "    prediction_rbf = classifier_rbf.predict(test_vectors)\n",
    "    t2 = time.time()\n",
    "    time_rbf_train = t1-t0\n",
    "    time_rbf_predict = t2-t1\n",
    "\n",
    "    # Perform classification with SVM, kernel=linear\n",
    "    classifier_linear = svm.SVC(kernel='linear')\n",
    "    t0 = time.time()\n",
    "    classifier_linear.fit(train_vectors, train_labels)\n",
    "    t1 = time.time()\n",
    "    prediction_linear = classifier_linear.predict(test_vectors)\n",
    "    t2 = time.time()\n",
    "    time_linear_train = t1-t0\n",
    "    time_linear_predict = t2-t1\n",
    "\n",
    "    # Perform classification with SVM, kernel=linear\n",
    "    classifier_liblinear = svm.LinearSVC()\n",
    "    t0 = time.time()\n",
    "    classifier_liblinear.fit(train_vectors, train_labels)\n",
    "    t1 = time.time()\n",
    "    prediction_liblinear = classifier_liblinear.predict(test_vectors)\n",
    "    t2 = time.time()\n",
    "    time_liblinear_train = t1-t0\n",
    "    time_liblinear_predict = t2-t1\n",
    "\n",
    "    # Print results in a nice table\n",
    "    print(\"Results for SVC(kernel=rbf)\")\n",
    "    print(\"Training time: %fs; Prediction time: %fs\" % (time_rbf_train, time_rbf_predict))\n",
    "    print(classification_report(test_labels, prediction_rbf))\n",
    "    print(\"Results for SVC(kernel=linear)\")\n",
    "    print(\"Training time: %fs; Prediction time: %fs\" % (time_linear_train, time_linear_predict))\n",
    "    print(classification_report(test_labels, prediction_linear))\n",
    "    print(\"Results for LinearSVC()\")\n",
    "    print(\"Training time: %fs; Prediction time: %fs\" % (time_liblinear_train, time_liblinear_predict))\n",
    "    print(classification_report(test_labels, prediction_liblinear))"
   ]
  },
  {
   "cell_type": "code",
   "execution_count": 1,
   "metadata": {
    "collapsed": false
   },
   "outputs": [
    {
     "data": {
      "text/plain": [
       "u'/Users/mindyng/Desktop/Springboard - Data Science Career Track'"
      ]
     },
     "execution_count": 1,
     "metadata": {},
     "output_type": "execute_result"
    }
   ],
   "source": [
    "pwd"
   ]
  },
  {
   "cell_type": "code",
   "execution_count": 2,
   "metadata": {
    "collapsed": false
   },
   "outputs": [
    {
     "name": "stdout",
     "output_type": "stream",
     "text": [
      "\u001b[34mAdmission\u001b[m\u001b[m/\r\n",
      "Amazon.ipynb\r\n",
      "\u001b[34mCapstone Project\u001b[m\u001b[m/\r\n",
      "\u001b[34mCareer\u001b[m\u001b[m/\r\n",
      "Fitbit.ipynb\r\n",
      "\u001b[34mMini Projects\u001b[m\u001b[m/\r\n",
      "\u001b[34mMisc.\u001b[m\u001b[m/\r\n",
      "Sac DS MeetUp.pages\r\n",
      "Sentiment Analysis test.ipynb\r\n",
      "Terminal Saved Output-Fitbit JSON to Pandas Datafram\r\n",
      "Untitled.ipynb\r\n",
      "\u001b[34mamazon_book_reviews\u001b[m\u001b[m/\r\n",
      "\u001b[34mpycon-pandas-tutorial\u001b[m\u001b[m/\r\n",
      "\u001b[34mreview_polarity\u001b[m\u001b[m/\r\n"
     ]
    }
   ],
   "source": [
    "ls"
   ]
  },
  {
   "cell_type": "code",
   "execution_count": 3,
   "metadata": {
    "collapsed": false
   },
   "outputs": [
    {
     "ename": "NameError",
     "evalue": "name 'amazon_book_reviews' is not defined",
     "output_type": "error",
     "traceback": [
      "\u001b[0;31m---------------------------------------------------------------------------\u001b[0m",
      "\u001b[0;31mNameError\u001b[0m                                 Traceback (most recent call last)",
      "\u001b[0;32m<ipython-input-3-f3a3531c2fab>\u001b[0m in \u001b[0;36m<module>\u001b[0;34m()\u001b[0m\n\u001b[1;32m     26\u001b[0m     \u001b[0mtest_labels\u001b[0m \u001b[0;34m=\u001b[0m \u001b[0;34m[\u001b[0m\u001b[0;34m]\u001b[0m\u001b[0;34m\u001b[0m\u001b[0m\n\u001b[1;32m     27\u001b[0m     \u001b[0;32mfor\u001b[0m \u001b[0mcurr_class\u001b[0m \u001b[0;32min\u001b[0m \u001b[0mclasses\u001b[0m\u001b[0;34m:\u001b[0m\u001b[0;34m\u001b[0m\u001b[0m\n\u001b[0;32m---> 28\u001b[0;31m         \u001b[0mdirname\u001b[0m \u001b[0;34m=\u001b[0m \u001b[0mos\u001b[0m\u001b[0;34m.\u001b[0m\u001b[0mpath\u001b[0m\u001b[0;34m.\u001b[0m\u001b[0mjoin\u001b[0m\u001b[0;34m(\u001b[0m\u001b[0mamazon_book_reviews\u001b[0m\u001b[0;34m,\u001b[0m \u001b[0mcurr_class\u001b[0m\u001b[0;34m)\u001b[0m\u001b[0;34m\u001b[0m\u001b[0m\n\u001b[0m\u001b[1;32m     29\u001b[0m         \u001b[0;32mfor\u001b[0m \u001b[0mfname\u001b[0m \u001b[0;32min\u001b[0m \u001b[0mos\u001b[0m\u001b[0;34m.\u001b[0m\u001b[0mlistdir\u001b[0m\u001b[0;34m(\u001b[0m\u001b[0mdirname\u001b[0m\u001b[0;34m)\u001b[0m\u001b[0;34m:\u001b[0m\u001b[0;34m\u001b[0m\u001b[0m\n\u001b[1;32m     30\u001b[0m             \u001b[0;32mwith\u001b[0m \u001b[0mopen\u001b[0m\u001b[0;34m(\u001b[0m\u001b[0mos\u001b[0m\u001b[0;34m.\u001b[0m\u001b[0mpath\u001b[0m\u001b[0;34m.\u001b[0m\u001b[0mjoin\u001b[0m\u001b[0;34m(\u001b[0m\u001b[0mdirname\u001b[0m\u001b[0;34m,\u001b[0m \u001b[0mfname\u001b[0m\u001b[0;34m)\u001b[0m\u001b[0;34m,\u001b[0m \u001b[0;34m'r'\u001b[0m\u001b[0;34m)\u001b[0m \u001b[0;32mas\u001b[0m \u001b[0mf\u001b[0m\u001b[0;34m:\u001b[0m\u001b[0;34m\u001b[0m\u001b[0m\n",
      "\u001b[0;31mNameError\u001b[0m: name 'amazon_book_reviews' is not defined"
     ]
    }
   ],
   "source": [
    "import sys\n",
    "import os\n",
    "import time\n",
    "\n",
    "from sklearn.feature_extraction.text import TfidfVectorizer\n",
    "from sklearn import svm\n",
    "from sklearn.metrics import classification_report\n",
    "\n",
    "def usage():\n",
    "    print(\"Usage:\")\n",
    "    print(\"python %s <data_dir>\" % sys.argv[0])\n",
    "\n",
    "if __name__ == '__main__':\n",
    "\n",
    "    if len(sys.argv) < 2:\n",
    "        usage()\n",
    "        sys.exit(1)\n",
    "\n",
    "    data_dir = sys.argv[1]\n",
    "    classes = ['pos', 'neg']\n",
    "\n",
    "    # Read the data\n",
    "    train_data = []\n",
    "    train_labels = []\n",
    "    test_data = []\n",
    "    test_labels = []\n",
    "    for curr_class in classes:\n",
    "        dirname = os.path.join(amazon_book_reviews, curr_class)\n",
    "        for fname in os.listdir(dirname):\n",
    "            with open(os.path.join(dirname, fname), 'r') as f:\n",
    "                content = f.read()\n",
    "                if fname.startswith('cv9'):\n",
    "                    test_data.append(content)\n",
    "                    test_labels.append(curr_class)\n",
    "                else:\n",
    "                    train_data.append(content)\n",
    "                    train_labels.append(curr_class)\n",
    "\n",
    "    # Create feature vectors\n",
    "    vectorizer = TfidfVectorizer(min_df=5,\n",
    "                                 max_df = 0.8,\n",
    "                                 sublinear_tf=True,\n",
    "                                 use_idf=True)\n",
    "    train_vectors = vectorizer.fit_transform(train_data)\n",
    "    test_vectors = vectorizer.transform(test_data)\n",
    "\n",
    "    # Perform classification with SVM, kernel=rbf\n",
    "    classifier_rbf = svm.SVC()\n",
    "    t0 = time.time()\n",
    "    classifier_rbf.fit(train_vectors, train_labels)\n",
    "    t1 = time.time()\n",
    "    prediction_rbf = classifier_rbf.predict(test_vectors)\n",
    "    t2 = time.time()\n",
    "    time_rbf_train = t1-t0\n",
    "    time_rbf_predict = t2-t1\n",
    "\n",
    "    # Perform classification with SVM, kernel=linear\n",
    "    classifier_linear = svm.SVC(kernel='linear')\n",
    "    t0 = time.time()\n",
    "    classifier_linear.fit(train_vectors, train_labels)\n",
    "    t1 = time.time()\n",
    "    prediction_linear = classifier_linear.predict(test_vectors)\n",
    "    t2 = time.time()\n",
    "    time_linear_train = t1-t0\n",
    "    time_linear_predict = t2-t1\n",
    "\n",
    "    # Perform classification with SVM, kernel=linear\n",
    "    classifier_liblinear = svm.LinearSVC()\n",
    "    t0 = time.time()\n",
    "    classifier_liblinear.fit(train_vectors, train_labels)\n",
    "    t1 = time.time()\n",
    "    prediction_liblinear = classifier_liblinear.predict(test_vectors)\n",
    "    t2 = time.time()\n",
    "    time_liblinear_train = t1-t0\n",
    "    time_liblinear_predict = t2-t1\n",
    "\n",
    "    # Print results in a nice table\n",
    "    print(\"Results for SVC(kernel=rbf)\")\n",
    "    print(\"Training time: %fs; Prediction time: %fs\" % (time_rbf_train, time_rbf_predict))\n",
    "    print(classification_report(test_labels, prediction_rbf))\n",
    "    print(\"Results for SVC(kernel=linear)\")\n",
    "    print(\"Training time: %fs; Prediction time: %fs\" % (time_linear_train, time_linear_predict))\n",
    "    print(classification_report(test_labels, prediction_linear))\n",
    "    print(\"Results for LinearSVC()\")\n",
    "    print(\"Training time: %fs; Prediction time: %fs\" % (time_liblinear_train, time_liblinear_predict))\n",
    "    print(classification_report(test_labels, prediction_liblinear))"
   ]
  },
  {
   "cell_type": "code",
   "execution_count": null,
   "metadata": {
    "collapsed": true
   },
   "outputs": [],
   "source": []
  }
 ],
 "metadata": {
  "anaconda-cloud": {},
  "kernelspec": {
   "display_name": "Python [conda root]",
   "language": "python",
   "name": "conda-root-py"
  },
  "language_info": {
   "codemirror_mode": {
    "name": "ipython",
    "version": 2
   },
   "file_extension": ".py",
   "mimetype": "text/x-python",
   "name": "python",
   "nbconvert_exporter": "python",
   "pygments_lexer": "ipython2",
   "version": "2.7.13"
  }
 },
 "nbformat": 4,
 "nbformat_minor": 2
}
