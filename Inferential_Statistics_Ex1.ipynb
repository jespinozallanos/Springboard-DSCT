{
 "cells": [
  {
   "cell_type": "raw",
   "metadata": {},
   "source": [
    "# What is the True Normal Human Body Temperature? \n",
    "\n",
    "#### Background\n",
    "\n",
    "The mean normal body temperature was held to be 37$^{\\circ}$C or 98.6$^{\\circ}$F for more than 120 years since it was first conceptualized and reported by Carl Wunderlich in a famous 1868 book. But, is this value statistically correct?"
   ]
  },
  {
   "cell_type": "markdown",
   "metadata": {},
   "source": [
    "<div class=\"span5 alert alert-info\">\n",
    "<h3>Exercises</h3>\n",
    "\n",
    "<p>In this exercise, you will analyze a dataset of human body temperatures and employ the concepts of hypothesis testing, confidence intervals, and statistical significance.</p>\n",
    "\n",
    "<p>Answer the following questions <b>in this notebook below and submit to your Github account</b>.</p> \n",
    "\n",
    "<ol>\n",
    "<li>  Is the distribution of body temperatures normal? \n",
    "    <ul>\n",
    "    <li> Although this is not a requirement for CLT to hold (read CLT carefully), it gives us some peace of mind that the population may also be normally distributed if we assume that this sample is representative of the population.\n",
    "    </ul>\n",
    "<li>  Is the sample size large? Are the observations independent?\n",
    "    <ul>\n",
    "    <li> Remember that this is a condition for the CLT, and hence the statistical tests we are using, to apply.\n",
    "    </ul>\n",
    "<li>  Is the true population mean really 98.6 degrees F?\n",
    "    <ul>\n",
    "    <li> Would you use a one-sample or two-sample test? Why?\n",
    "    <li> In this situation, is it appropriate to use the $t$ or $z$ statistic? \n",
    "    <li> Now try using the other test. How is the result be different? Why?\n",
    "    </ul>\n",
    "<li>  At what temperature should we consider someone's temperature to be \"abnormal\"?\n",
    "    <ul>\n",
    "    <li> Start by computing the margin of error and confidence interval.\n",
    "    </ul>\n",
    "<li>  Is there a significant difference between males and females in normal temperature?\n",
    "    <ul>\n",
    "    <li> What test did you use and why?\n",
    "    <li> Write a story with your conclusion in the context of the original problem.\n",
    "    </ul>\n",
    "</ol>\n",
    "\n",
    "You can include written notes in notebook cells using Markdown: \n",
    "   - In the control panel at the top, choose Cell > Cell Type > Markdown\n",
    "   - Markdown syntax: http://nestacms.com/docs/creating-content/markdown-cheat-sheet\n",
    "\n",
    "#### Resources\n",
    "\n",
    "+ Information and data sources: http://www.amstat.org/publications/jse/datasets/normtemp.txt, http://www.amstat.org/publications/jse/jse_data_archive.htm\n",
    "+ Markdown syntax: http://nestacms.com/docs/creating-content/markdown-cheat-sheet\n",
    "\n",
    "****"
   ]
  },
  {
   "cell_type": "code",
   "execution_count": 9,
   "metadata": {
    "collapsed": true
   },
   "outputs": [],
   "source": [
    "import pandas as pd\n",
    "import matplotlib.pyplot as plt\n",
    "import numpy as np\n",
    "import scipy.stats as st\n",
    "\n",
    "df = pd.read_csv('data/human_body_temperature.csv')"
   ]
  },
  {
   "cell_type": "code",
   "execution_count": 10,
   "metadata": {
    "collapsed": false
   },
   "outputs": [
    {
     "data": {
      "image/png": "[encoded data removed]",
      "text/plain": [
       "<matplotlib.figure.Figure at 0x11de4b890>"
      ]
     },
     "metadata": {},
     "output_type": "display_data"
    }
   ],
   "source": [
    "#1\n",
    "\n",
    "plt.hist(df.temperature)\n",
    "plt.show()"
   ]
  },
  {
   "cell_type": "code",
   "execution_count": 27,
   "metadata": {
    "collapsed": false
   },
   "outputs": [
    {
     "name": "stdout",
     "output_type": "stream",
     "text": [
      "('Proportion of data within one standard deviation of mean:', 0)\n",
      "('Proportion of data within two standard deviations of mean:', 0)\n",
      "('Proportion of data within three standard deviations of mean:', 0)\n",
      "98.2492307692\n",
      "0.730357778905\n"
     ]
    }
   ],
   "source": [
    "#The distribution of body temperatures is not quite normal because it does not have a bell-curve shaped distribution.\n",
    "\n",
    "#It looks unimodal (one peak) and somewhat symmetric, but not quite. A check can be made on where the 1st, 2nd and 3rd \n",
    "#standard deviations are in order to see if these follow a normal distribution.\n",
    "\n",
    "#(Wikipedia) In statistics, the 68–95–99.7 rule is a shorthand used to remember the percentage of values that lie \n",
    "# within a band around the mean in a normal distribution with a width of two, four and six standard deviations, \n",
    "# respectively; more accurately, 68.27%, 95.45% and 99.73% of the values lie within one, two and three standard \n",
    "# deviations of the mean, respectively. \n",
    "\n",
    "df_temp_mean = np.mean(df.temperature)\n",
    "df_temp_stddev = np.std(df.temperature) \n",
    "temp = df.temperature.values\n",
    "\n",
    "print('Proportion of data within one standard deviation of mean:', len(temp[(temp>df_temp_mean-df_temp_stddev) & (temp<df_temp_mean+df_temp_stddev)])/len(temp))\n",
    "print('Proportion of data within two standard deviations of mean:', len(temp[(temp>df_temp_mean-2*df_temp_stddev) & (temp<df_temp_mean+2*df_temp_stddev)])/len(temp))\n",
    "print('Proportion of data within three standard deviations of mean:', len(temp[(temp>df_temp_mean-3*df_temp_stddev) & (temp<df_temp_mean+3*df_temp_stddev)])/len(temp))    \n",
    "\n",
    "print df_temp_mean\n",
    "print df_temp_stddev"
   ]
  },
  {
   "cell_type": "code",
   "execution_count": null,
   "metadata": {
    "collapsed": true
   },
   "outputs": [],
   "source": [
    "#PRINT OUT? Based on these values, sample distribition closely follows 68–95–99.7 rule. \n",
    "#Therefore, we can say that the distribution of body temperatures follows a normal distribution."
   ]
  },
  {
   "cell_type": "code",
   "execution_count": null,
   "metadata": {
    "collapsed": true
   },
   "outputs": [],
   "source": [
    "#Is this included to set up sample data assumptions???\n",
    "#Although this is not a requirement for CLT to hold (read CLT carefully), it gives us some peace of mind that the \n",
    "#population may also be normally distributed if we assume that this sample is representative of the population."
   ]
  },
  {
   "cell_type": "code",
   "execution_count": 22,
   "metadata": {
    "collapsed": false
   },
   "outputs": [
    {
     "data": {
      "text/plain": [
       "(130, 3)"
      ]
     },
     "execution_count": 22,
     "metadata": {},
     "output_type": "execute_result"
    }
   ],
   "source": [
    "#2\n",
    "\n",
    "df.shape\n",
    "\n",
    "#There are 130 observations. This is a large sample size since it is >30 \n",
    "#samples, which is considered a small sample set.\n",
    "\n",
    "#The observations are independent since the occurrence of one event does not \n",
    "#change the probability of another.???\n"
   ]
  },
  {
   "cell_type": "code",
   "execution_count": 25,
   "metadata": {
    "collapsed": false
   },
   "outputs": [
    {
     "data": {
      "text/plain": [
       "(-5.4548232923645195, 4.9021570141012155e-08)"
      ]
     },
     "execution_count": 25,
     "metadata": {},
     "output_type": "execute_result"
    }
   ],
   "source": [
    "#3\n",
    "\n",
    "#Due to determining that the sample size distribution is normal, we can start using the z- and t test statistics. \n",
    "#Now we need to define the null hypothesis and the alternative hypotheses.\n",
    "\n",
    "# Null Hypothesis: The true population temperature is 98.6 F.\n",
    "# Alternative Hypothesis: The true population temperature is not 98.6 F.\n",
    "# And we will set the significance level at 0.05.\n",
    "\n",
    "#I would use a two-sample test in order to test for the temperature being less than or greater than 98.6. \n",
    "#???If I chose a one-tail test then I would fail to test for the possibility of less than/greater than degrees from 98.6 degrees F.\n",
    "\n",
    "#In this situation, it is appropriate to use the z-statistic (sample size = 130) \n",
    "#since t-statistic is for smaller sample sizes (>30).\n",
    "\n",
    "from statsmodels.stats.weightstats import ztest\n",
    "ztest(df.temperature, value = 98.6)"
   ]
  },
  {
   "cell_type": "code",
   "execution_count": null,
   "metadata": {
    "collapsed": true
   },
   "outputs": [],
   "source": [
    "#Based on this output, we can see that the second value in the tuple, is the p-value.\n",
    "\n",
    "# It is extremely small compared to our significance value of 0.05. \n",
    "# Given, there is strong evidence against the null Hypothesis,\n",
    "# which is the true population temp is 98.6 degrees F. \n",
    "# Therefore, we accept the alternative Hypothesis,\n",
    "# which states that the true population temp is not 98.6 degrees F."
   ]
  },
  {
   "cell_type": "code",
   "execution_count": 26,
   "metadata": {
    "collapsed": false
   },
   "outputs": [
    {
     "data": {
      "text/plain": [
       "Ttest_1sampResult(statistic=-5.4548232923645195, pvalue=2.4106320415561276e-07)"
      ]
     },
     "execution_count": 26,
     "metadata": {},
     "output_type": "execute_result"
    }
   ],
   "source": [
    "#Now using the other test, the t-test. Let us see if the result is different\n",
    "#even though the conditions for it to be used does not fit our situation.(???)\n",
    "\n",
    "st.ttest_1samp(df.temperature, 98.6)"
   ]
  },
  {
   "cell_type": "code",
   "execution_count": null,
   "metadata": {
    "collapsed": true
   },
   "outputs": [],
   "source": [
    "#The output from the t-test, even though a different value,\n",
    "#is an extremeley low p-value as well. \n",
    "#This is due to the denominator value in this test being different from the z-test.\n",
    "#Thus, the null Hypothesis is rejected again. "
   ]
  },
  {
   "cell_type": "code",
   "execution_count": 28,
   "metadata": {
    "collapsed": false
   },
   "outputs": [
    {
     "data": {
      "text/plain": [
       "[98.123679804428193, 98.374781734033363]"
      ]
     },
     "execution_count": 28,
     "metadata": {},
     "output_type": "execute_result"
    }
   ],
   "source": [
    "#4\n",
    "\n",
    "#The temperature at which we should consider someone's temperature to be \"abnormal\":\n",
    "\n",
    "#A 95% Confidence Interval will be used. This will determine what the critical value will be\n",
    "#or the Z-value. For 95% Confidence Interval, the critical value is: 1.96.\n",
    "\n",
    "#margin of error (me) =\n",
    "\n",
    "#1.96 * Standard Error\n",
    "\n",
    "#Standard Error (se) = standard deviation / (n)^0.5\n",
    "\n",
    "#Reminder : standard deviation = 0.730357778905, n = 130\n",
    "\n",
    "se = df_temp_stddev/np.sqrt(len(df.temperature))\n",
    "me = 1.96*se\n",
    " \n",
    "\n",
    "#confidence interval:\n",
    "\n",
    "#Mean + me\n",
    "\n",
    "CI = [df_temp_mean-me,df_temp_mean+me]\n",
    "CI"
   ]
  },
  {
   "cell_type": "code",
   "execution_count": null,
   "metadata": {
    "collapsed": true
   },
   "outputs": [],
   "source": [
    "#Given this interval, any temperature outside of this range is considered \"abnormal\"."
   ]
  },
  {
   "cell_type": "code",
   "execution_count": 42,
   "metadata": {
    "collapsed": false
   },
   "outputs": [
    {
     "name": "stdout",
     "output_type": "stream",
     "text": [
      "65\n",
      "65\n"
     ]
    }
   ],
   "source": [
    "#5\n",
    "\n",
    "#Let us first see if we can assume normal distribution of data gender subsets\n",
    "#based on the gender subsets before using z-stat/t-stat to help us answer the question. \n",
    "\n",
    "male_temp = np.array(df.temperature[df.gender == \"M\"])\n",
    "female_temp = np.array(df.temperature[df.gender == \"F\"])\n",
    "\n",
    "print (len(male_temp))\n",
    "print (len(female_temp))"
   ]
  },
  {
   "cell_type": "code",
   "execution_count": 43,
   "metadata": {
    "collapsed": true
   },
   "outputs": [],
   "source": [
    "#65 is still large.\n",
    "#So we can assume normal distribution again\n",
    "#and proceed with computing a Z-stat.\n",
    "#However, since the population standard deviation is unknown,\n",
    "#we will proceed with using the t-stat."
   ]
  },
  {
   "cell_type": "code",
   "execution_count": 47,
   "metadata": {
    "collapsed": false
   },
   "outputs": [
    {
     "data": {
      "text/plain": [
       "Ttest_indResult(statistic=2.2854345381656103, pvalue=0.023931883122395609)"
      ]
     },
     "execution_count": 47,
     "metadata": {},
     "output_type": "execute_result"
    }
   ],
   "source": [
    "st.ttest_ind(female_temp,male_temp)"
   ]
  },
  {
   "cell_type": "code",
   "execution_count": null,
   "metadata": {
    "collapsed": true
   },
   "outputs": [],
   "source": [
    "#Based on the p-value, how it is below are significance level of 0.05,\n",
    "#the evidence is weak to accept the null Hypothesis.\n",
    "#Therefore, we reject the null Hypothesis in favor of the alternative Hypothesis, \n",
    "#which is: There is a significant difference between males and females in \n",
    "#normal temperature."
   ]
  }
 ],
 "metadata": {
  "anaconda-cloud": {},
  "kernelspec": {
   "display_name": "Python [default]",
   "language": "python",
   "name": "python2"
  },
  "language_info": {
   "codemirror_mode": {
    "name": "ipython",
    "version": 2
   },
   "file_extension": ".py",
   "mimetype": "text/x-python",
   "name": "python",
   "nbconvert_exporter": "python",
   "pygments_lexer": "ipython2",
   "version": "2.7.13"
  }
 },
 "nbformat": 4,
 "nbformat_minor": 0
}
